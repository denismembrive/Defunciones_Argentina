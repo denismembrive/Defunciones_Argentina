{
  "nbformat": 4,
  "nbformat_minor": 0,
  "metadata": {
    "colab": {
      "provenance": [],
      "authorship_tag": "ABX9TyOdm4/tcPaCWFbspe0eioHU",
      "include_colab_link": true
    },
    "kernelspec": {
      "name": "python3",
      "display_name": "Python 3"
    },
    "language_info": {
      "name": "python"
    }
  },
  "cells": [
    {
      "cell_type": "markdown",
      "metadata": {
        "id": "view-in-github",
        "colab_type": "text"
      },
      "source": [
        "<a href=\"https://colab.research.google.com/github/denismembrive/Defunciones_Argentina/blob/main/Problema24.ipynb\" target=\"_parent\"><img src=\"https://colab.research.google.com/assets/colab-badge.svg\" alt=\"Open In Colab\"/></a>"
      ]
    },
    {
      "cell_type": "code",
      "execution_count": 1,
      "metadata": {
        "id": "4ikNig0RojGI"
      },
      "outputs": [],
      "source": [
        "import pandas as pd\n",
        "import numpy as np\n",
        "import matplotlib.pyplot as plt\n",
        "import seaborn as sns"
      ]
    },
    {
      "cell_type": "code",
      "source": [
        "#Cargamos el dataset\n",
        "df_defunciones= pd.read_csv('/content/sample_data/arg_def_m_15_22.csv')"
      ],
      "metadata": {
        "id": "iICHQZiSpCZF"
      },
      "execution_count": 3,
      "outputs": []
    },
    {
      "cell_type": "code",
      "source": [
        "#Se muestran los ultimos datos de la tabla con la funcion Tail\n",
        "df_defunciones.tail(5)"
      ],
      "metadata": {
        "colab": {
          "base_uri": "https://localhost:8080/",
          "height": 313
        },
        "id": "o67lWB4Hp0bK",
        "outputId": "0eb08e3d-9f5b-4be8-ded5-fd92ee0dfb2b"
      },
      "execution_count": 6,
      "outputs": [
        {
          "output_type": "execute_result",
          "data": {
            "text/plain": [
              "           region    jurisdiccion mes_anio_defuncion  mes_def  anio_def  \\\n",
              "1969269  1.Centro  6.Prov. Bs.As.            05/2021        5      2021   \n",
              "1969270    2.NEA.  18.Corrientes.            08/2020        8      2020   \n",
              "1969271  1.Centro  6.Prov. Bs.As.            04/2021        4      2021   \n",
              "1969272    2.NEA.  18.Corrientes.            07/2020        7      2020   \n",
              "1969273  1.Centro  6.Prov. Bs.As.            11/2021       11      2021   \n",
              "\n",
              "         sexo_id  sexo_nombre           grupo_etario  \\\n",
              "1969269        9  desconocido    06.de 70 a 79 anios   \n",
              "1969270        9  desconocido    06.de 70 a 79 anios   \n",
              "1969271        9  desconocido    06.de 70 a 79 anios   \n",
              "1969272        9  desconocido    06.de 70 a 79 anios   \n",
              "1969273        9  desconocido  07. de 80 anios y mas   \n",
              "\n",
              "                grupo_causa_defuncion_CIE10 cod_causa_muerte_CIE10  cantidad  \n",
              "1969269  0900 ENF  DEL SISTEMA CIRCULATORIO                    I50         2  \n",
              "1969270  0900 ENF  DEL SISTEMA CIRCULATORIO                    I10         1  \n",
              "1969271  0900 ENF  DEL SISTEMA CIRCULATORIO                    I50         1  \n",
              "1969272                1200 ENF  DEL HIGADO                    K74         1  \n",
              "1969273  0900 ENF  DEL SISTEMA CIRCULATORIO                    I50         1  "
            ],
            "text/html": [
              "\n",
              "  <div id=\"df-4057faef-9431-44be-899f-b932b73513e1\" class=\"colab-df-container\">\n",
              "    <div>\n",
              "<style scoped>\n",
              "    .dataframe tbody tr th:only-of-type {\n",
              "        vertical-align: middle;\n",
              "    }\n",
              "\n",
              "    .dataframe tbody tr th {\n",
              "        vertical-align: top;\n",
              "    }\n",
              "\n",
              "    .dataframe thead th {\n",
              "        text-align: right;\n",
              "    }\n",
              "</style>\n",
              "<table border=\"1\" class=\"dataframe\">\n",
              "  <thead>\n",
              "    <tr style=\"text-align: right;\">\n",
              "      <th></th>\n",
              "      <th>region</th>\n",
              "      <th>jurisdiccion</th>\n",
              "      <th>mes_anio_defuncion</th>\n",
              "      <th>mes_def</th>\n",
              "      <th>anio_def</th>\n",
              "      <th>sexo_id</th>\n",
              "      <th>sexo_nombre</th>\n",
              "      <th>grupo_etario</th>\n",
              "      <th>grupo_causa_defuncion_CIE10</th>\n",
              "      <th>cod_causa_muerte_CIE10</th>\n",
              "      <th>cantidad</th>\n",
              "    </tr>\n",
              "  </thead>\n",
              "  <tbody>\n",
              "    <tr>\n",
              "      <th>1969269</th>\n",
              "      <td>1.Centro</td>\n",
              "      <td>6.Prov. Bs.As.</td>\n",
              "      <td>05/2021</td>\n",
              "      <td>5</td>\n",
              "      <td>2021</td>\n",
              "      <td>9</td>\n",
              "      <td>desconocido</td>\n",
              "      <td>06.de 70 a 79 anios</td>\n",
              "      <td>0900 ENF  DEL SISTEMA CIRCULATORIO</td>\n",
              "      <td>I50</td>\n",
              "      <td>2</td>\n",
              "    </tr>\n",
              "    <tr>\n",
              "      <th>1969270</th>\n",
              "      <td>2.NEA.</td>\n",
              "      <td>18.Corrientes.</td>\n",
              "      <td>08/2020</td>\n",
              "      <td>8</td>\n",
              "      <td>2020</td>\n",
              "      <td>9</td>\n",
              "      <td>desconocido</td>\n",
              "      <td>06.de 70 a 79 anios</td>\n",
              "      <td>0900 ENF  DEL SISTEMA CIRCULATORIO</td>\n",
              "      <td>I10</td>\n",
              "      <td>1</td>\n",
              "    </tr>\n",
              "    <tr>\n",
              "      <th>1969271</th>\n",
              "      <td>1.Centro</td>\n",
              "      <td>6.Prov. Bs.As.</td>\n",
              "      <td>04/2021</td>\n",
              "      <td>4</td>\n",
              "      <td>2021</td>\n",
              "      <td>9</td>\n",
              "      <td>desconocido</td>\n",
              "      <td>06.de 70 a 79 anios</td>\n",
              "      <td>0900 ENF  DEL SISTEMA CIRCULATORIO</td>\n",
              "      <td>I50</td>\n",
              "      <td>1</td>\n",
              "    </tr>\n",
              "    <tr>\n",
              "      <th>1969272</th>\n",
              "      <td>2.NEA.</td>\n",
              "      <td>18.Corrientes.</td>\n",
              "      <td>07/2020</td>\n",
              "      <td>7</td>\n",
              "      <td>2020</td>\n",
              "      <td>9</td>\n",
              "      <td>desconocido</td>\n",
              "      <td>06.de 70 a 79 anios</td>\n",
              "      <td>1200 ENF  DEL HIGADO</td>\n",
              "      <td>K74</td>\n",
              "      <td>1</td>\n",
              "    </tr>\n",
              "    <tr>\n",
              "      <th>1969273</th>\n",
              "      <td>1.Centro</td>\n",
              "      <td>6.Prov. Bs.As.</td>\n",
              "      <td>11/2021</td>\n",
              "      <td>11</td>\n",
              "      <td>2021</td>\n",
              "      <td>9</td>\n",
              "      <td>desconocido</td>\n",
              "      <td>07. de 80 anios y mas</td>\n",
              "      <td>0900 ENF  DEL SISTEMA CIRCULATORIO</td>\n",
              "      <td>I50</td>\n",
              "      <td>1</td>\n",
              "    </tr>\n",
              "  </tbody>\n",
              "</table>\n",
              "</div>\n",
              "    <div class=\"colab-df-buttons\">\n",
              "\n",
              "  <div class=\"colab-df-container\">\n",
              "    <button class=\"colab-df-convert\" onclick=\"convertToInteractive('df-4057faef-9431-44be-899f-b932b73513e1')\"\n",
              "            title=\"Convert this dataframe to an interactive table.\"\n",
              "            style=\"display:none;\">\n",
              "\n",
              "  <svg xmlns=\"http://www.w3.org/2000/svg\" height=\"24px\" viewBox=\"0 -960 960 960\">\n",
              "    <path d=\"M120-120v-720h720v720H120Zm60-500h600v-160H180v160Zm220 220h160v-160H400v160Zm0 220h160v-160H400v160ZM180-400h160v-160H180v160Zm440 0h160v-160H620v160ZM180-180h160v-160H180v160Zm440 0h160v-160H620v160Z\"/>\n",
              "  </svg>\n",
              "    </button>\n",
              "\n",
              "  <style>\n",
              "    .colab-df-container {\n",
              "      display:flex;\n",
              "      gap: 12px;\n",
              "    }\n",
              "\n",
              "    .colab-df-convert {\n",
              "      background-color: #E8F0FE;\n",
              "      border: none;\n",
              "      border-radius: 50%;\n",
              "      cursor: pointer;\n",
              "      display: none;\n",
              "      fill: #1967D2;\n",
              "      height: 32px;\n",
              "      padding: 0 0 0 0;\n",
              "      width: 32px;\n",
              "    }\n",
              "\n",
              "    .colab-df-convert:hover {\n",
              "      background-color: #E2EBFA;\n",
              "      box-shadow: 0px 1px 2px rgba(60, 64, 67, 0.3), 0px 1px 3px 1px rgba(60, 64, 67, 0.15);\n",
              "      fill: #174EA6;\n",
              "    }\n",
              "\n",
              "    .colab-df-buttons div {\n",
              "      margin-bottom: 4px;\n",
              "    }\n",
              "\n",
              "    [theme=dark] .colab-df-convert {\n",
              "      background-color: #3B4455;\n",
              "      fill: #D2E3FC;\n",
              "    }\n",
              "\n",
              "    [theme=dark] .colab-df-convert:hover {\n",
              "      background-color: #434B5C;\n",
              "      box-shadow: 0px 1px 3px 1px rgba(0, 0, 0, 0.15);\n",
              "      filter: drop-shadow(0px 1px 2px rgba(0, 0, 0, 0.3));\n",
              "      fill: #FFFFFF;\n",
              "    }\n",
              "  </style>\n",
              "\n",
              "    <script>\n",
              "      const buttonEl =\n",
              "        document.querySelector('#df-4057faef-9431-44be-899f-b932b73513e1 button.colab-df-convert');\n",
              "      buttonEl.style.display =\n",
              "        google.colab.kernel.accessAllowed ? 'block' : 'none';\n",
              "\n",
              "      async function convertToInteractive(key) {\n",
              "        const element = document.querySelector('#df-4057faef-9431-44be-899f-b932b73513e1');\n",
              "        const dataTable =\n",
              "          await google.colab.kernel.invokeFunction('convertToInteractive',\n",
              "                                                    [key], {});\n",
              "        if (!dataTable) return;\n",
              "\n",
              "        const docLinkHtml = 'Like what you see? Visit the ' +\n",
              "          '<a target=\"_blank\" href=https://colab.research.google.com/notebooks/data_table.ipynb>data table notebook</a>'\n",
              "          + ' to learn more about interactive tables.';\n",
              "        element.innerHTML = '';\n",
              "        dataTable['output_type'] = 'display_data';\n",
              "        await google.colab.output.renderOutput(dataTable, element);\n",
              "        const docLink = document.createElement('div');\n",
              "        docLink.innerHTML = docLinkHtml;\n",
              "        element.appendChild(docLink);\n",
              "      }\n",
              "    </script>\n",
              "  </div>\n",
              "\n",
              "\n",
              "<div id=\"df-3bfca07b-2046-4f7f-bf2a-099d35540692\">\n",
              "  <button class=\"colab-df-quickchart\" onclick=\"quickchart('df-3bfca07b-2046-4f7f-bf2a-099d35540692')\"\n",
              "            title=\"Suggest charts\"\n",
              "            style=\"display:none;\">\n",
              "\n",
              "<svg xmlns=\"http://www.w3.org/2000/svg\" height=\"24px\"viewBox=\"0 0 24 24\"\n",
              "     width=\"24px\">\n",
              "    <g>\n",
              "        <path d=\"M19 3H5c-1.1 0-2 .9-2 2v14c0 1.1.9 2 2 2h14c1.1 0 2-.9 2-2V5c0-1.1-.9-2-2-2zM9 17H7v-7h2v7zm4 0h-2V7h2v10zm4 0h-2v-4h2v4z\"/>\n",
              "    </g>\n",
              "</svg>\n",
              "  </button>\n",
              "\n",
              "<style>\n",
              "  .colab-df-quickchart {\n",
              "      --bg-color: #E8F0FE;\n",
              "      --fill-color: #1967D2;\n",
              "      --hover-bg-color: #E2EBFA;\n",
              "      --hover-fill-color: #174EA6;\n",
              "      --disabled-fill-color: #AAA;\n",
              "      --disabled-bg-color: #DDD;\n",
              "  }\n",
              "\n",
              "  [theme=dark] .colab-df-quickchart {\n",
              "      --bg-color: #3B4455;\n",
              "      --fill-color: #D2E3FC;\n",
              "      --hover-bg-color: #434B5C;\n",
              "      --hover-fill-color: #FFFFFF;\n",
              "      --disabled-bg-color: #3B4455;\n",
              "      --disabled-fill-color: #666;\n",
              "  }\n",
              "\n",
              "  .colab-df-quickchart {\n",
              "    background-color: var(--bg-color);\n",
              "    border: none;\n",
              "    border-radius: 50%;\n",
              "    cursor: pointer;\n",
              "    display: none;\n",
              "    fill: var(--fill-color);\n",
              "    height: 32px;\n",
              "    padding: 0;\n",
              "    width: 32px;\n",
              "  }\n",
              "\n",
              "  .colab-df-quickchart:hover {\n",
              "    background-color: var(--hover-bg-color);\n",
              "    box-shadow: 0 1px 2px rgba(60, 64, 67, 0.3), 0 1px 3px 1px rgba(60, 64, 67, 0.15);\n",
              "    fill: var(--button-hover-fill-color);\n",
              "  }\n",
              "\n",
              "  .colab-df-quickchart-complete:disabled,\n",
              "  .colab-df-quickchart-complete:disabled:hover {\n",
              "    background-color: var(--disabled-bg-color);\n",
              "    fill: var(--disabled-fill-color);\n",
              "    box-shadow: none;\n",
              "  }\n",
              "\n",
              "  .colab-df-spinner {\n",
              "    border: 2px solid var(--fill-color);\n",
              "    border-color: transparent;\n",
              "    border-bottom-color: var(--fill-color);\n",
              "    animation:\n",
              "      spin 1s steps(1) infinite;\n",
              "  }\n",
              "\n",
              "  @keyframes spin {\n",
              "    0% {\n",
              "      border-color: transparent;\n",
              "      border-bottom-color: var(--fill-color);\n",
              "      border-left-color: var(--fill-color);\n",
              "    }\n",
              "    20% {\n",
              "      border-color: transparent;\n",
              "      border-left-color: var(--fill-color);\n",
              "      border-top-color: var(--fill-color);\n",
              "    }\n",
              "    30% {\n",
              "      border-color: transparent;\n",
              "      border-left-color: var(--fill-color);\n",
              "      border-top-color: var(--fill-color);\n",
              "      border-right-color: var(--fill-color);\n",
              "    }\n",
              "    40% {\n",
              "      border-color: transparent;\n",
              "      border-right-color: var(--fill-color);\n",
              "      border-top-color: var(--fill-color);\n",
              "    }\n",
              "    60% {\n",
              "      border-color: transparent;\n",
              "      border-right-color: var(--fill-color);\n",
              "    }\n",
              "    80% {\n",
              "      border-color: transparent;\n",
              "      border-right-color: var(--fill-color);\n",
              "      border-bottom-color: var(--fill-color);\n",
              "    }\n",
              "    90% {\n",
              "      border-color: transparent;\n",
              "      border-bottom-color: var(--fill-color);\n",
              "    }\n",
              "  }\n",
              "</style>\n",
              "\n",
              "  <script>\n",
              "    async function quickchart(key) {\n",
              "      const quickchartButtonEl =\n",
              "        document.querySelector('#' + key + ' button');\n",
              "      quickchartButtonEl.disabled = true;  // To prevent multiple clicks.\n",
              "      quickchartButtonEl.classList.add('colab-df-spinner');\n",
              "      try {\n",
              "        const charts = await google.colab.kernel.invokeFunction(\n",
              "            'suggestCharts', [key], {});\n",
              "      } catch (error) {\n",
              "        console.error('Error during call to suggestCharts:', error);\n",
              "      }\n",
              "      quickchartButtonEl.classList.remove('colab-df-spinner');\n",
              "      quickchartButtonEl.classList.add('colab-df-quickchart-complete');\n",
              "    }\n",
              "    (() => {\n",
              "      let quickchartButtonEl =\n",
              "        document.querySelector('#df-3bfca07b-2046-4f7f-bf2a-099d35540692 button');\n",
              "      quickchartButtonEl.style.display =\n",
              "        google.colab.kernel.accessAllowed ? 'block' : 'none';\n",
              "    })();\n",
              "  </script>\n",
              "</div>\n",
              "\n",
              "    </div>\n",
              "  </div>\n"
            ],
            "application/vnd.google.colaboratory.intrinsic+json": {
              "type": "dataframe",
              "repr_error": "0"
            }
          },
          "metadata": {},
          "execution_count": 6
        }
      ]
    },
    {
      "cell_type": "code",
      "source": [
        "#Mostramos cantidad de filas y columnas del dataset\n",
        "df_defunciones.shape"
      ],
      "metadata": {
        "colab": {
          "base_uri": "https://localhost:8080/",
          "height": 0
        },
        "id": "j9Sl1Ag5Eksi",
        "outputId": "5d89b4d7-9629-4f42-85e9-e5cdfcfd6d8a"
      },
      "execution_count": 7,
      "outputs": [
        {
          "output_type": "execute_result",
          "data": {
            "text/plain": [
              "(1969274, 11)"
            ]
          },
          "metadata": {},
          "execution_count": 7
        }
      ]
    },
    {
      "cell_type": "markdown",
      "source": [
        "Trabajaremos con casi 2 millones de datos, repartidos en 11 columnas. Es por esto que se analizara la cantidad de defunciones con respecto a los años. Es por esto que filtre los datos en dos columnas o variables."
      ],
      "metadata": {
        "id": "xUop4LRGEp_6"
      }
    },
    {
      "cell_type": "code",
      "source": [
        "#Se filtra el datast\n",
        "df_filtrado = df_defunciones[['anio_def', 'cantidad']]"
      ],
      "metadata": {
        "id": "ezAJHn3_Ddsl"
      },
      "execution_count": 8,
      "outputs": []
    },
    {
      "cell_type": "code",
      "source": [
        "#Se imprimen los datos del dataset filtrado\n",
        "print(df_filtrado.tail())\n"
      ],
      "metadata": {
        "colab": {
          "base_uri": "https://localhost:8080/",
          "height": 0
        },
        "id": "iZNBgY7pEdVD",
        "outputId": "0133cbdd-c1e1-437a-80f4-8e54b156a468"
      },
      "execution_count": 9,
      "outputs": [
        {
          "output_type": "stream",
          "name": "stdout",
          "text": [
            "         anio_def  cantidad\n",
            "1969269      2021         2\n",
            "1969270      2020         1\n",
            "1969271      2021         1\n",
            "1969272      2020         1\n",
            "1969273      2021         1\n"
          ]
        }
      ]
    },
    {
      "cell_type": "markdown",
      "source": [
        "Ahora se procede a otener solo la sumatoria de defunciones de cada año, quedando asi nuestro data set conformado por 2 columnas y 8 filas"
      ],
      "metadata": {
        "id": "EdSvrTmXg8Sy"
      }
    },
    {
      "cell_type": "code",
      "source": [
        "# Obtencion del total de defunciones por año (suma de todas las defunciones por año)\n",
        "df_totales = df_filtrado.groupby('anio_def', as_index=False)['cantidad'].sum()\n",
        "\n"
      ],
      "metadata": {
        "id": "YMJ1QOtuGEy7"
      },
      "execution_count": 10,
      "outputs": []
    },
    {
      "cell_type": "code",
      "source": [
        "#Se comprueba que el dataset quedo con esa estructura\n",
        "df_totales.shape"
      ],
      "metadata": {
        "colab": {
          "base_uri": "https://localhost:8080/",
          "height": 0
        },
        "id": "UoGcBkfOFlJI",
        "outputId": "3db35e8c-0070-4b01-9c2f-8ab88d260eca"
      },
      "execution_count": 11,
      "outputs": [
        {
          "output_type": "execute_result",
          "data": {
            "text/plain": [
              "(8, 2)"
            ]
          },
          "metadata": {},
          "execution_count": 11
        }
      ]
    },
    {
      "cell_type": "markdown",
      "source": [
        "Todo este analisis proximo sera desarrollado en excel y Geogebra, pero de todas maneras lo dejare realizado aqui tambien"
      ],
      "metadata": {
        "id": "gOGOe3YQhbf5"
      }
    },
    {
      "cell_type": "code",
      "source": [
        "\n",
        "from sklearn.preprocessing import PolynomialFeatures\n",
        "from sklearn.linear_model import LinearRegression\n",
        "from sklearn.metrics import r2_score\n",
        "\n",
        "# Se agrupan los datos por año y se obtiene la sumatoria total de defunciones\n",
        "df_sum = df_defunciones.groupby('anio_def')['cantidad'].sum().reset_index()\n",
        "\n",
        "# Definicion de variables para la regresión (Usando la sumatoria total)\n",
        "X = df_sum[['anio_def']]  # Años (Variable independiente)\n",
        "y = df_sum['cantidad']    # Cantidad total de defunciones por año (Variable dependiente)\n",
        "\n",
        "# Transformacion de los datos para regresión polinómica (Grado 6)\n",
        "poly = PolynomialFeatures(degree=6)\n",
        "X_poly = poly.fit_transform(X)\n",
        "\n",
        "# Entrenamiento  del modelo de regresión polinómica\n",
        "modelo = LinearRegression()\n",
        "modelo.fit(X_poly, y)\n",
        "\n",
        "# Prediccion de valores para la curva de tendencia\n",
        "y_pred = modelo.predict(X_poly)\n",
        "\n",
        "# Calculo del coeficiente de determinación R2\n",
        "r2 = r2_score(y, y_pred)\n",
        "\n",
        "# Prediccion de los próximos 5 años\n",
        "anios_futuros = np.array(range(df_sum['anio_def'].max() + 1, df_sum['anio_def'].max() + 6)).reshape(-1, 1)\n",
        "X_futuro_poly = poly.transform(anios_futuros)\n",
        "predicciones = modelo.predict(X_futuro_poly)\n",
        "\n",
        "# Grafico de los resultados\n",
        "plt.figure(figsize=(10, 6))\n",
        "plt.scatter(X, y, color='red', label=\"Sumatoria Total por Año\")  # Puntos originales\n",
        "plt.plot(X, y_pred, color='blue', linestyle=\"--\", label=\"Curva de Regresión Polinómica (Grado 6)\")  # Línea de tendencia\n",
        "plt.plot(anios_futuros, predicciones, color='green', marker='o', linestyle=\"-\", label=\"Predicción Próximos 5 Años\")  # Predicciones futuras\n",
        "\n",
        "# Personalizamos el grafico\n",
        "plt.xlabel(\"Año\")\n",
        "plt.ylabel(\"Total de Defunciones\")\n",
        "plt.title(f\"Regresión Polinómica (Grado 6) sobre la Sumatoria Total de Defunciones por Año\\nR² = {r2:.4f}\")\n",
        "plt.legend()\n",
        "plt.grid(True)\n",
        "\n",
        "# Mostrar gráfico\n",
        "plt.show()\n",
        "\n",
        "# Imprimir el coeficiente R2 para evaluar la regresión\n",
        "print(f\"R²: {r2:.4f}\")\n",
        "\n",
        "# Imprimir predicciones futuras\n",
        "for año, pred in zip(anios_futuros.flatten(), predicciones):\n",
        "    print(f\"Predicción para el año {año}: {pred:.0f} defunciones\")\n",
        "\n",
        "# Mostrar coeficientes del modelo\n",
        "print(\"Coeficientes del modelo polinómico:\")\n",
        "print(modelo.coef_)\n",
        "print(f\"Intercepto: {modelo.intercept_:.2f}\")\n"
      ],
      "metadata": {
        "colab": {
          "base_uri": "https://localhost:8080/",
          "height": 813
        },
        "id": "58Wz-suRC3MB",
        "outputId": "d5c86b4b-412e-4441-d038-e1cb3b95edec"
      },
      "execution_count": 12,
      "outputs": [
        {
          "output_type": "stream",
          "name": "stderr",
          "text": [
            "/usr/local/lib/python3.11/dist-packages/sklearn/utils/validation.py:2739: UserWarning: X does not have valid feature names, but PolynomialFeatures was fitted with feature names\n",
            "  warnings.warn(\n"
          ]
        },
        {
          "output_type": "display_data",
          "data": {
            "text/plain": [
              "<Figure size 1000x600 with 1 Axes>"
            ],
            "image/png": "[encoded data removed]"
          },
          "metadata": {}
        },
        {
          "output_type": "stream",
          "name": "stdout",
          "text": [
            "R²: 0.6849\n",
            "Predicción para el año 2023: 412033 defunciones\n",
            "Predicción para el año 2024: 400148 defunciones\n",
            "Predicción para el año 2025: 370732 defunciones\n",
            "Predicción para el año 2026: 319826 defunciones\n",
            "Predicción para el año 2027: 243457 defunciones\n",
            "Coeficientes del modelo polinómico:\n",
            "[ 0.00000000e+00 -1.07847354e-04 -1.76339238e-07 -2.67065502e-04\n",
            " -2.39587326e-01  1.89818873e-04 -3.91635887e-08]\n",
            "Intercepto: 265669786854.72\n"
          ]
        }
      ]
    },
    {
      "cell_type": "code",
      "source": [
        "# Se guardanlos datos en un archivo Excel\n",
        "df_totales.to_excel(\"total_defunciones_por_anio.xlsx\", index=False)\n",
        "\n",
        "print(\"Archivo guardado como 'total_defunciones_por_anio.xlsx'.\")"
      ],
      "metadata": {
        "colab": {
          "base_uri": "https://localhost:8080/",
          "height": 0
        },
        "id": "BxjQQhC7CPKi",
        "outputId": "76fd553a-e7e9-4c05-ba98-42193dc44902"
      },
      "execution_count": 13,
      "outputs": [
        {
          "output_type": "stream",
          "name": "stdout",
          "text": [
            "Archivo guardado como 'total_defunciones_por_anio.xlsx'.\n"
          ]
        }
      ]
    }
  ]
}